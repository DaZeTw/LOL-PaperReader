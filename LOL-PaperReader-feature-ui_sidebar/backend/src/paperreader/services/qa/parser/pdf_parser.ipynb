{
 "cells": [
  {
   "cell_type": "code",
   "execution_count": 1,
   "id": "00953ebe",
   "metadata": {},
   "outputs": [
    {
     "name": "stderr",
     "output_type": "stream",
     "text": [
      "d:\\WorkSpace\\venv\\Lib\\site-packages\\pydantic\\_internal\\_fields.py:132: UserWarning: Field \"model_path\" in LayoutModelConfig has conflict with protected namespace \"model_\".\n",
      "\n",
      "You may be able to resolve this warning by setting `model_config['protected_namespaces'] = ()`.\n",
      "  warnings.warn(\n",
      "d:\\WorkSpace\\venv\\Lib\\site-packages\\pydantic\\_internal\\_fields.py:132: UserWarning: Field \"model_spec\" in LayoutOptions has conflict with protected namespace \"model_\".\n",
      "\n",
      "You may be able to resolve this warning by setting `model_config['protected_namespaces'] = ()`.\n",
      "  warnings.warn(\n",
      "2025-10-13 09:05:59,600 - INFO - detected formats: [<InputFormat.PDF: 'pdf'>]\n",
      "2025-10-13 09:06:01,258 - INFO - Going to convert document batch...\n",
      "2025-10-13 09:06:01,259 - INFO - Initializing pipeline for StandardPdfPipeline with options hash ce2db4bc6b59e8bf84cfaffa1879c953\n",
      "2025-10-13 09:06:01,280 - INFO - Loading plugin 'docling_defaults'\n",
      "2025-10-13 09:06:01,284 - INFO - Registered picture descriptions: ['vlm', 'api']\n",
      "2025-10-13 09:06:01,304 - INFO - Loading plugin 'docling_defaults'\n",
      "2025-10-13 09:06:01,310 - INFO - Registered ocr engines: ['easyocr', 'ocrmac', 'rapidocr', 'tesserocr', 'tesseract']\n",
      "2025-10-13 09:06:01,703 - INFO - Accelerator device: 'cuda:0'\n",
      "2025-10-13 09:06:04,043 - INFO - Accelerator device: 'cuda:0'\n",
      "2025-10-13 09:06:05,929 - INFO - Accelerator device: 'cuda:0'\n",
      "2025-10-13 09:06:06,604 - INFO - Processing document 1706.03762v7.pdf\n",
      "2025-10-13 09:06:23,584 - INFO - Finished converting document 1706.03762v7.pdf in 24.00 sec.\n"
     ]
    },
    {
     "name": "stdout",
     "output_type": "stream",
     "text": [
      "[✓] Saved page image: output_parser\\1706.03762v7-page-1.png\n",
      "[✓] Saved page image: output_parser\\1706.03762v7-page-2.png\n",
      "[✓] Saved page image: output_parser\\1706.03762v7-page-3.png\n",
      "[✓] Saved page image: output_parser\\1706.03762v7-page-4.png\n",
      "[✓] Saved page image: output_parser\\1706.03762v7-page-5.png\n",
      "[✓] Saved page image: output_parser\\1706.03762v7-page-6.png\n",
      "[✓] Saved page image: output_parser\\1706.03762v7-page-7.png\n",
      "[✓] Saved page image: output_parser\\1706.03762v7-page-8.png\n",
      "[✓] Saved page image: output_parser\\1706.03762v7-page-9.png\n",
      "[✓] Saved page image: output_parser\\1706.03762v7-page-10.png\n",
      "[✓] Saved page image: output_parser\\1706.03762v7-page-11.png\n",
      "[✓] Saved page image: output_parser\\1706.03762v7-page-12.png\n",
      "[✓] Saved page image: output_parser\\1706.03762v7-page-13.png\n",
      "[✓] Saved page image: output_parser\\1706.03762v7-page-14.png\n"
     ]
    },
    {
     "name": "stderr",
     "output_type": "stream",
     "text": [
      "2025-10-13 09:06:25,236 - WARNING - Usage of TableItem.export_to_dataframe() without `doc` argument is deprecated.\n"
     ]
    },
    {
     "name": "stdout",
     "output_type": "stream",
     "text": [
      "[✓] Saved page image: output_parser\\1706.03762v7-page-15.png\n",
      "[✓] Saved figure: output_parser\\1706.03762v7-figure-29.png\n",
      "[✓] Saved figure: output_parser\\1706.03762v7-figure-38.png\n",
      "[✓] Saved figure: output_parser\\1706.03762v7-figure-39.png\n",
      "[✓] Saved figure: output_parser\\1706.03762v7-figure-170.png\n",
      "[✓] Saved figure: output_parser\\1706.03762v7-figure-173.png\n",
      "[✓] Saved figure: output_parser\\1706.03762v7-figure-176.png\n",
      "[✓] Saved table CSV: output_parser\\1706.03762v7-table-1.csv\n"
     ]
    },
    {
     "name": "stderr",
     "output_type": "stream",
     "text": [
      "2025-10-13 09:06:25,566 - WARNING - Usage of TableItem.export_to_dataframe() without `doc` argument is deprecated.\n",
      "2025-10-13 09:06:25,576 - WARNING - Usage of TableItem.export_to_dataframe() without `doc` argument is deprecated.\n",
      "2025-10-13 09:06:25,590 - WARNING - Usage of TableItem.export_to_dataframe() without `doc` argument is deprecated.\n"
     ]
    },
    {
     "name": "stdout",
     "output_type": "stream",
     "text": [
      "[✓] Saved table HTML: output_parser\\1706.03762v7-table-1.html\n",
      "[✓] Saved table CSV: output_parser\\1706.03762v7-table-2.csv\n",
      "[✓] Saved table HTML: output_parser\\1706.03762v7-table-2.html\n",
      "[✓] Saved table CSV: output_parser\\1706.03762v7-table-3.csv\n",
      "[✓] Saved table HTML: output_parser\\1706.03762v7-table-3.html\n",
      "[✓] Saved table CSV: output_parser\\1706.03762v7-table-4.csv\n",
      "[✓] Saved table HTML: output_parser\\1706.03762v7-table-4.html\n"
     ]
    },
    {
     "name": "stderr",
     "output_type": "stream",
     "text": [
      "2025-10-13 09:06:26,343 - WARNING - Could not parse formula with MathML\n",
      "2025-10-13 09:06:26,344 - WARNING - Could not parse formula with MathML\n",
      "2025-10-13 09:06:26,346 - WARNING - Could not parse formula with MathML\n",
      "2025-10-13 09:06:26,346 - WARNING - Could not parse formula with MathML\n",
      "2025-10-13 09:06:26,348 - WARNING - Could not parse formula with MathML\n"
     ]
    },
    {
     "name": "stdout",
     "output_type": "stream",
     "text": [
      "[✓] Done. Elapsed time: 26.79s\n"
     ]
    }
   ],
   "source": [
    "import logging\n",
    "import time\n",
    "from pathlib import Path\n",
    "import pandas as pd\n",
    "\n",
    "from docling_core.types.doc import ImageRefMode, PictureItem, TableItem\n",
    "from docling.datamodel.base_models import InputFormat\n",
    "from docling.datamodel.pipeline_options import PdfPipelineOptions\n",
    "from docling.document_converter import DocumentConverter, PdfFormatOption\n",
    "\n",
    "logging.basicConfig(level=logging.INFO)\n",
    "_log = logging.getLogger(__name__)\n",
    "\n",
    "INPUT_PDF_PATH = Path(\"D:/WorkSpace/PDF_Parser/1706.03762v7.pdf\")\n",
    "OUTPUT_DIR = Path(\"output_parser\")\n",
    "OUTPUT_DIR.mkdir(parents=True, exist_ok=True)\n",
    "\n",
    "# --- Configure Docling Pipeline ---\n",
    "pipeline_options = PdfPipelineOptions()\n",
    "pipeline_options.images_scale = 2.0\n",
    "pipeline_options.generate_page_images = True\n",
    "pipeline_options.generate_picture_images = True\n",
    "\n",
    "converter = DocumentConverter(\n",
    "    format_options={InputFormat.PDF: PdfFormatOption(pipeline_options=pipeline_options)}\n",
    ")\n",
    "\n",
    "start_time = time.time()\n",
    "result = converter.convert(INPUT_PDF_PATH)\n",
    "doc = result.document\n",
    "pdf_stem = result.input.file.stem\n",
    "\n",
    "# --- Export Page Images ---\n",
    "for page_no, page in doc.pages.items():\n",
    "    page_img_path = OUTPUT_DIR / f\"{pdf_stem}-page-{page_no}.png\"\n",
    "    page.image.pil_image.save(page_img_path, format=\"PNG\")\n",
    "    print(f\"[✓] Saved page image: {page_img_path}\")\n",
    "\n",
    "# --- Export Figures (Pictures) ---\n",
    "for i, (element, _) in enumerate(doc.iterate_items()):\n",
    "    if isinstance(element, PictureItem):\n",
    "        img_path = OUTPUT_DIR / f\"{pdf_stem}-figure-{i+1}.png\"\n",
    "        element.get_image(doc).save(img_path, \"PNG\")\n",
    "        print(f\"[✓] Saved figure: {img_path}\")\n",
    "\n",
    "# --- Export Tables (CSV, HTML) ---\n",
    "for i, table in enumerate(doc.tables):\n",
    "    df: pd.DataFrame = table.export_to_dataframe()\n",
    "\n",
    "    csv_path = OUTPUT_DIR / f\"{pdf_stem}-table-{i+1}.csv\"\n",
    "    df.to_csv(csv_path, index=False)\n",
    "    print(f\"[✓] Saved table CSV: {csv_path}\")\n",
    "\n",
    "    html_path = OUTPUT_DIR / f\"{pdf_stem}-table-{i+1}.html\"\n",
    "    with html_path.open(\"w\", encoding=\"utf-8\") as f:\n",
    "        f.write(table.export_to_html(doc=doc))\n",
    "    print(f\"[✓] Saved table HTML: {html_path}\")\n",
    "\n",
    "# --- Export Full Markdown (Embedded and Referenced Images) ---\n",
    "md_embed = OUTPUT_DIR / f\"{pdf_stem}-embedded.md\"\n",
    "doc.save_as_markdown(md_embed, image_mode=ImageRefMode.EMBEDDED)\n",
    "\n",
    "md_ref = OUTPUT_DIR / f\"{pdf_stem}-referenced.md\"\n",
    "doc.save_as_markdown(md_ref, image_mode=ImageRefMode.REFERENCED)\n",
    "\n",
    "# --- Export Full HTML ---\n",
    "html_file = OUTPUT_DIR / f\"{pdf_stem}-referenced.html\"\n",
    "doc.save_as_html(html_file, image_mode=ImageRefMode.REFERENCED)\n",
    "\n",
    "elapsed = time.time() - start_time\n",
    "print(f\"[✓] Done. Elapsed time: {elapsed:.2f}s\")"
   ]
  }
 ],
 "metadata": {
  "kernelspec": {
   "display_name": "venv",
   "language": "python",
   "name": "python3"
  },
  "language_info": {
   "codemirror_mode": {
    "name": "ipython",
    "version": 3
   },
   "file_extension": ".py",
   "mimetype": "text/x-python",
   "name": "python",
   "nbconvert_exporter": "python",
   "pygments_lexer": "ipython3",
   "version": "3.12.7"
  }
 },
 "nbformat": 4,
 "nbformat_minor": 5
}
